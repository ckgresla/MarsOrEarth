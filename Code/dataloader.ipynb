{
 "cells": [
  {
   "cell_type": "markdown",
   "metadata": {},
   "source": [
    "# DataLoader Test\n",
    "\n",
    "Need write dataloader for custom images (and specify label as well!)"
   ]
  },
  {
   "cell_type": "code",
   "execution_count": 1,
   "metadata": {},
   "outputs": [],
   "source": [
    "# General Imports\n",
    "%matplotlib inline\n",
    "%config InlineBackend.figure_format = 'retina'\n",
    "\n",
    "import matplotlib.pyplot as plt\n",
    "\n",
    "import torch\n",
    "from torchvision import datasets, transforms"
   ]
  },
  {
   "cell_type": "code",
   "execution_count": 2,
   "metadata": {},
   "outputs": [],
   "source": [
    "# Custom Image Dataset & Pipeline\n",
    "\n",
    "import os\n",
    "import pandas as pd\n",
    "\n",
    "import torch\n",
    "from torch.utils.data import Dataset, DataLoader, random_split\n",
    "from torchvision import transforms\n",
    "from torchvision.io import read_image, ImageReadMode\n",
    "\n",
    "torch.manual_seed(42) #set global seed\n",
    "\n",
    "\n",
    "# PlanetaryDataloader\n",
    "class PlanetaryImages(Dataset):\n",
    "    def __init__(self, annotations_file, img_dir, transform=None, target_transform=None):\n",
    "        self.img_labels = pd.read_csv(annotations_file)\n",
    "        self.img_dir = img_dir\n",
    "        self.transform = transform\n",
    "        self.target_transform = target_transform\n",
    "\n",
    "    def __len__(self):\n",
    "        return len(self.img_labels)\n",
    "\n",
    "    def __getitem__(self, idx):\n",
    "        img_path = os.path.join(self.img_dir, self.img_labels.iloc[idx, 0])\n",
    "        #image = read_image(img_path, mode=ImageReadMode.GRAY) #had to convert all images to GrayScale\n",
    "        image = read_image(img_path, mode=ImageReadMode.RGB)\n",
    "        \n",
    "        # If GrayScale, convert to RGB\n",
    "        # if len(image.shape) < 3:\n",
    "\n",
    "        label = self.img_labels.iloc[idx, 1]\n",
    "        if self.transform:\n",
    "            image = self.transform(image)\n",
    "        if self.target_transform:\n",
    "            label = self.target_transform(label)\n",
    "        return image, label\n",
    "\n",
    "\n",
    "\n",
    "# Pipeline\n",
    "input_size = 224 #GhostNet Required Size\n",
    "\n",
    "transform = transforms.Compose([\n",
    "        transforms.ToPILImage(),\n",
    "        transforms.RandomResizedCrop(input_size),\n",
    "        transforms.RandomHorizontalFlip(), #used these two originally, images are slightly smaller so switched to center crop\n",
    "        transforms.ToTensor(),\n",
    "        #transforms.Normalize([0.485, 0.456, 0.406], [0.229, 0.224, 0.225]) #hard-coded normalization values -- GRAYSCALE\n",
    "    ])\n",
    "\n",
    "# Call Custom Dataset & Apply Transforms\n",
    "planetary_data = PlanetaryImages(\"../PlanetaryImages.csv\", \"../PlanetaryImages/\", transform=transform)\n",
    "\n",
    "# Get Train & Test Sets\n",
    "train_set, test_set = random_split(planetary_data, [6500, 872])\n",
    "\n",
    "\n",
    "# Define DataLoaders & Get Dict for em\n",
    "trainloader = DataLoader(train_set, batch_size=64, shuffle=True)\n",
    "testloader = DataLoader(test_set, batch_size=64, shuffle=True)\n",
    "\n",
    "dataloaders = {'train':trainloader, 'val':testloader}\n",
    "\n"
   ]
  },
  {
   "cell_type": "code",
   "execution_count": 5,
   "metadata": {},
   "outputs": [
    {
     "data": {
      "text/plain": [
       "torch.Size([64, 3, 224, 224])"
      ]
     },
     "execution_count": 5,
     "metadata": {},
     "output_type": "execute_result"
    }
   ],
   "source": [
    "s = next(iter(dataloaders[\"train\"]))\n",
    "\n",
    "s[0].shape\n",
    "\n"
   ]
  },
  {
   "cell_type": "code",
   "execution_count": null,
   "metadata": {},
   "outputs": [],
   "source": []
  },
  {
   "cell_type": "code",
   "execution_count": null,
   "metadata": {},
   "outputs": [],
   "source": []
  },
  {
   "cell_type": "code",
   "execution_count": null,
   "metadata": {},
   "outputs": [],
   "source": []
  },
  {
   "cell_type": "code",
   "execution_count": null,
   "metadata": {},
   "outputs": [],
   "source": []
  },
  {
   "cell_type": "code",
   "execution_count": null,
   "metadata": {},
   "outputs": [],
   "source": []
  }
 ],
 "metadata": {
  "interpreter": {
   "hash": "c9e1b50814febd0077d36f2e0fa46ffd7c4ec34302ee987c7108b6687589bbb1"
  },
  "kernelspec": {
   "display_name": "Python 3.9.7 ('cnn')",
   "language": "python",
   "name": "python3"
  },
  "language_info": {
   "codemirror_mode": {
    "name": "ipython",
    "version": 3
   },
   "file_extension": ".py",
   "mimetype": "text/x-python",
   "name": "python",
   "nbconvert_exporter": "python",
   "pygments_lexer": "ipython3",
   "version": "3.9.7"
  },
  "orig_nbformat": 4
 },
 "nbformat": 4,
 "nbformat_minor": 2
}
